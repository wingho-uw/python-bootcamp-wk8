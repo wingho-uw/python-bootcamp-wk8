{
 "cells": [
  {
   "cell_type": "markdown",
   "id": "db4b871e-8273-48dd-891d-a80f80a41d3d",
   "metadata": {},
   "source": [
    "Oceanography python bootcamp, Winter 2025\n",
    "# Week 8 notebook"
   ]
  },
  {
   "cell_type": "code",
   "execution_count": null,
   "id": "66c8516d-c263-433b-bf8b-25218d95253c",
   "metadata": {},
   "outputs": [],
   "source": [
    "import numpy as np\n",
    "import pandas as pd\n",
    "import matplotlib.pyplot as plt\n",
    "import matplotlib as mpl\n",
    "import sklearn as skl"
   ]
  },
  {
   "cell_type": "code",
   "execution_count": null,
   "id": "cd2389a4-1265-4826-964e-50d42e819216",
   "metadata": {},
   "outputs": [],
   "source": [
    "import week8_magic as magic"
   ]
  },
  {
   "cell_type": "code",
   "execution_count": null,
   "id": "dfbc4d74-552d-4b31-a4fa-4f7de10e97e6",
   "metadata": {},
   "outputs": [],
   "source": [
    "import importlib\n",
    "importlib.reload(magic);"
   ]
  },
  {
   "cell_type": "markdown",
   "id": "c76291b9-f1e5-424e-ab94-a903fdf34bac",
   "metadata": {},
   "source": [
    "## k-means clustering"
   ]
  },
  {
   "cell_type": "markdown",
   "id": "58bcb985-11b2-4e66-b175-1ce72f40befd",
   "metadata": {
    "jp-MarkdownHeadingCollapsed": true
   },
   "source": [
    "### Synthetic data with 2 explanatory variables"
   ]
  },
  {
   "cell_type": "code",
   "execution_count": null,
   "id": "ec326604-9b74-432e-bcd0-4c643b1ec287",
   "metadata": {},
   "outputs": [],
   "source": [
    "# load data\n",
    "coords = magic.blobs_coords.copy()\n",
    "coords.shape"
   ]
  },
  {
   "cell_type": "code",
   "execution_count": null,
   "id": "8d33bf57-1119-42a7-8d18-dcb55abd6ab1",
   "metadata": {},
   "outputs": [],
   "source": [
    "# visualize the data\n",
    "\n",
    "fig = plt.figure()\n",
    "ax = fig.add_subplot()\n",
    "\n",
    "ax.set_aspect(1)\n",
    "ax.set_xlim([-2, 10])\n",
    "ax.set_ylim([-2, 10])\n",
    "\n",
    "ax.scatter(coords[:, 0], coords[:, 1], marker=\"x\")\n",
    "\n",
    "plt.show(fig)"
   ]
  },
  {
   "cell_type": "code",
   "execution_count": null,
   "id": "6caa67f8-2afa-42f8-a56c-83906267aece",
   "metadata": {},
   "outputs": [],
   "source": [
    "# perform k-means clustering\n",
    "\n",
    "kmeans = skl.cluster.KMeans(n_clusters=3)\n",
    "kmeans.fit(coords)"
   ]
  },
  {
   "cell_type": "code",
   "execution_count": null,
   "id": "e94eac35-722f-43c4-a4c2-e127fbdcd971",
   "metadata": {},
   "outputs": [],
   "source": [
    "# extract the labels of the samples\n",
    "coords_labels = kmeans.labels_.copy()"
   ]
  },
  {
   "cell_type": "code",
   "execution_count": null,
   "id": "33373e30-28d5-4a31-8c39-e0d743da36b6",
   "metadata": {},
   "outputs": [],
   "source": [
    "# subsample the original samples by group labels\n",
    "coords_grp0 = coords[coords_labels==0, :]\n",
    "coords_grp1 = coords[coords_labels==1, :]\n",
    "coords_grp2 = coords[coords_labels==2, :]"
   ]
  },
  {
   "cell_type": "code",
   "execution_count": null,
   "id": "5d4cc94e-84a8-4f48-929c-ceca6d2c76fe",
   "metadata": {},
   "outputs": [],
   "source": [
    "# extract the prototypes\n",
    "prototypes = kmeans.cluster_centers_.copy()"
   ]
  },
  {
   "cell_type": "code",
   "execution_count": null,
   "id": "3cbc6883-7cbf-48e2-927a-f854831ca276",
   "metadata": {},
   "outputs": [],
   "source": [
    "prototypes"
   ]
  },
  {
   "cell_type": "code",
   "execution_count": null,
   "id": "958566a5-606a-495b-83bd-f885a897cf85",
   "metadata": {},
   "outputs": [],
   "source": [
    "# visualize the data\n",
    "\n",
    "fig = plt.figure()\n",
    "ax = fig.add_subplot()\n",
    "\n",
    "ax.set_aspect(1)\n",
    "ax.set_xlim([-2, 10])\n",
    "ax.set_ylim([-2, 10])\n",
    "\n",
    "ax.scatter(coords_grp0[:, 0], coords_grp0[:, 1], marker=\"x\", label=\"group 0\")\n",
    "ax.scatter(coords_grp1[:, 0], coords_grp1[:, 1], marker=\"+\", label=\"group 1\")\n",
    "ax.scatter(coords_grp2[:, 0], coords_grp2[:, 1], marker=\".\", label=\"group 2\")\n",
    "\n",
    "ax.scatter(prototypes[:, 0], prototypes[:, 1], c=\"k\", s=100, marker=\"*\", label=\"centroids\")\n",
    "\n",
    "ax.legend()\n",
    "\n",
    "plt.show(fig)"
   ]
  },
  {
   "cell_type": "code",
   "execution_count": null,
   "id": "50114794-ce2c-4ddd-acc6-305cd605155e",
   "metadata": {},
   "outputs": [],
   "source": [
    "# suppose new observations comes in\n",
    "new_coords = np.array([\n",
    "    [1.32, 1.77],\n",
    "    [7.5, 7.4],\n",
    "    [8.0, 1.0]\n",
    "])"
   ]
  },
  {
   "cell_type": "code",
   "execution_count": null,
   "id": "458a0bb2-8b8a-4f4f-9ceb-4c1801125cdf",
   "metadata": {},
   "outputs": [],
   "source": [
    "# predict the groups of the new observations\n",
    "kmeans.predict(new_coords)"
   ]
  },
  {
   "cell_type": "code",
   "execution_count": null,
   "id": "bbd3e5da-2288-4437-b190-f1a321249809",
   "metadata": {},
   "outputs": [],
   "source": [
    "# calculate the negative of the within-cluster mean square error\n",
    "kmeans.score(coords)"
   ]
  },
  {
   "cell_type": "markdown",
   "id": "b7b1e9d9-457a-4b5a-a7ba-8f6c14accfda",
   "metadata": {
    "jp-MarkdownHeadingCollapsed": true
   },
   "source": [
    "### Determine the number of clusters"
   ]
  },
  {
   "cell_type": "code",
   "execution_count": null,
   "id": "5b0ff78a-129e-45b4-99b2-e04c9e91c87c",
   "metadata": {},
   "outputs": [],
   "source": [
    "# scoring each clustering result when n_clusters goes from 1 to 11\n",
    "\n",
    "scores = np.zeros(10)\n",
    "\n",
    "for i in range(1, 11):\n",
    "    kmeans_test = skl.cluster.KMeans(n_clusters=i)\n",
    "    kmeans_test.fit(coords)\n",
    "    scores[i-1] = kmeans_test.score(coords)"
   ]
  },
  {
   "cell_type": "code",
   "execution_count": null,
   "id": "7c9e9559-3180-4a4b-9d84-c8ac238bb0f5",
   "metadata": {},
   "outputs": [],
   "source": [
    "# visualize the scores as function of cluster\n",
    "\n",
    "fig = plt.figure()\n",
    "ax = fig.add_subplot()\n",
    "\n",
    "ax.plot(np.arange(1, 11), scores, marker=\"o\")\n",
    "ax.set_xlabel(\"Number of clusters\")\n",
    "ax.set_ylabel(\"Fitting score\")\n",
    "\n",
    "plt.show(fig)"
   ]
  },
  {
   "cell_type": "markdown",
   "id": "3c9d236e-f349-4a37-a3a7-6e40f977df88",
   "metadata": {
    "jp-MarkdownHeadingCollapsed": true
   },
   "source": [
    "### Exercise 1: Classifying the iris dataset"
   ]
  },
  {
   "cell_type": "code",
   "execution_count": null,
   "id": "6b12739b-f13e-4967-a3fb-70641ba4efa0",
   "metadata": {},
   "outputs": [],
   "source": [
    "# starter code: loading and inspecting the iris dataset\n",
    "iris = magic.iris.copy()\n",
    "iris"
   ]
  },
  {
   "cell_type": "code",
   "execution_count": null,
   "id": "e942197c-779c-4cb2-a15a-bf5eede08551",
   "metadata": {},
   "outputs": [],
   "source": [
    "# part 1: perform k-means clustering"
   ]
  },
  {
   "cell_type": "code",
   "execution_count": null,
   "id": "72513fb5-7275-4a1b-aed5-b38b597e5ed7",
   "metadata": {},
   "outputs": [],
   "source": [
    "# part 2: extract information about prototype"
   ]
  },
  {
   "cell_type": "code",
   "execution_count": null,
   "id": "e68136cf-f084-4c8f-b97e-c1fae2ee2a3f",
   "metadata": {},
   "outputs": [],
   "source": [
    "# part 3: visualize the results"
   ]
  },
  {
   "cell_type": "markdown",
   "id": "9818511b-5d96-44c0-a6ce-0fa748414acc",
   "metadata": {},
   "source": [
    "## Desision trees and random forest classification"
   ]
  },
  {
   "cell_type": "markdown",
   "id": "6535f865-42d1-4c42-b94a-30b0e8214b0b",
   "metadata": {
    "jp-MarkdownHeadingCollapsed": true
   },
   "source": [
    "### Decision tree classifier"
   ]
  },
  {
   "cell_type": "code",
   "execution_count": null,
   "id": "a699d43f-1785-484c-ac23-67c6275aaf71",
   "metadata": {},
   "outputs": [],
   "source": [
    "# load the LABELED iris data\n",
    "iris_labeled = magic.iris_labeled.copy()\n",
    "iris_labeled"
   ]
  },
  {
   "cell_type": "code",
   "execution_count": null,
   "id": "d5623147-e17d-406d-982c-0398ec0de20b",
   "metadata": {},
   "outputs": [],
   "source": [
    "# pre-processing\n",
    "\n",
    "# create two numpy arrays from the dataframe\n",
    "iris_X = iris_labeled.iloc[:, :4].values\n",
    "iris_Y = iris_labeled.iloc[:, 4].values\n",
    "\n",
    "# separate data into training and testing sets\n",
    "X_train, X_test, Y_train, Y_test = skl.model_selection.train_test_split(\n",
    "    iris_X, iris_Y, test_size=0.4, stratify=iris_Y, random_state=99\n",
    ")"
   ]
  },
  {
   "cell_type": "code",
   "execution_count": null,
   "id": "514b0784-c14f-4e5a-ba77-819dc9b2bdc2",
   "metadata": {},
   "outputs": [],
   "source": [
    "# create an instance of decision tree\n",
    "tree_iris = skl.tree.DecisionTreeClassifier(random_state=101)\n",
    "tree_iris.fit(X_train, Y_train)"
   ]
  },
  {
   "cell_type": "code",
   "execution_count": null,
   "id": "70996867-63cd-4c7f-a883-cd6e3efabf0a",
   "metadata": {},
   "outputs": [],
   "source": [
    "# visualizing the decision tree\n",
    "\n",
    "fig = plt.figure(figsize=(9, 9))\n",
    "ax = fig.add_subplot()\n",
    "\n",
    "skl.tree.plot_tree(tree_iris, impurity=False, ax=ax, filled=True)\n",
    "plt.show()"
   ]
  },
  {
   "cell_type": "code",
   "execution_count": null,
   "id": "cc109ef0-1571-4242-bf21-65900c79aa6f",
   "metadata": {},
   "outputs": [],
   "source": [
    "# the algorithm correctly classify all training samples\n",
    "tree_iris.score(X_train, Y_train)"
   ]
  },
  {
   "cell_type": "code",
   "execution_count": null,
   "id": "c0cfd399-76f6-4edf-a407-43c950e284f0",
   "metadata": {},
   "outputs": [],
   "source": [
    "# the accuracy on test sample is lower\n",
    "tree_iris.score(X_test, Y_test)"
   ]
  },
  {
   "cell_type": "code",
   "execution_count": null,
   "id": "61cbf434-b10a-4c85-9481-2ceee1bcb5b8",
   "metadata": {},
   "outputs": [],
   "source": [
    "# check the actual prediction\n",
    "iris_predicted = tree_iris.predict(X_test)\n",
    "print(iris_predicted)"
   ]
  },
  {
   "cell_type": "code",
   "execution_count": null,
   "id": "cba9a9cb-1496-4ccf-adf9-b0074c0d57ed",
   "metadata": {},
   "outputs": [],
   "source": [
    "# compare with ground truth\n",
    "iris_agreed = X_test[iris_predicted == Y_test, :]\n",
    "iris_disagreed = X_test[iris_predicted != Y_test, :]"
   ]
  },
  {
   "cell_type": "code",
   "execution_count": null,
   "id": "2ef9e3ee-4255-4e17-b517-ed7d5a58d63d",
   "metadata": {},
   "outputs": [],
   "source": [
    "# sepal length and sepal width\n",
    "\n",
    "fig = plt.figure()\n",
    "ax = fig.add_subplot()\n",
    "\n",
    "ax.scatter(X_train[:, 2], X_train[:, 3], marker=\"+\", c=\"silver\", label=\"training samples\")\n",
    "ax.scatter(iris_agreed[:, 2], iris_agreed[:, 3], marker=\".\", c=\"green\", label=\"test samples (correct)\")\n",
    "ax.scatter(iris_disagreed[:, 2], iris_disagreed[:, 3], marker=\"x\", c=\"red\", label=\"test samples (incorrect)\")\n",
    "\n",
    "ax.set_aspect(1)\n",
    "\n",
    "ax.set_xlabel(\"patel length (cm)\")\n",
    "ax.set_ylabel(\"patel width (cm)\")\n",
    "\n",
    "ax.legend()\n",
    "\n",
    "plt.show(fig)"
   ]
  },
  {
   "cell_type": "markdown",
   "id": "28f97ec3-75c3-4ac2-ba1e-2994eff62584",
   "metadata": {
    "jp-MarkdownHeadingCollapsed": true
   },
   "source": [
    "### Random forest classifier"
   ]
  },
  {
   "cell_type": "code",
   "execution_count": null,
   "id": "ca203c0c-f7b2-4988-8e29-7e0c04153ad4",
   "metadata": {},
   "outputs": [],
   "source": [
    "# load the LABELED iris data\n",
    "iris_labeled = magic.iris_labeled.copy()\n",
    "iris_labeled"
   ]
  },
  {
   "cell_type": "code",
   "execution_count": null,
   "id": "b454caa3-08cc-486d-af78-5c1985bfcadf",
   "metadata": {},
   "outputs": [],
   "source": [
    "# pre-processing\n",
    "\n",
    "# create two numpy arrays from the dataframe\n",
    "iris_X = iris_labeled.iloc[:, :4].values\n",
    "iris_Y = iris_labeled.iloc[:, 4].values\n",
    "\n",
    "# separate data into training and testing sets\n",
    "X_train, X_test, Y_train, Y_test = skl.model_selection.train_test_split(\n",
    "    iris_X, iris_Y, test_size=0.4, stratify=iris_Y, random_state=123\n",
    ")"
   ]
  },
  {
   "cell_type": "code",
   "execution_count": null,
   "id": "a2406754-b183-4fdc-83e7-09393765dc24",
   "metadata": {},
   "outputs": [],
   "source": [
    "forest_iris = skl.ensemble.RandomForestClassifier(random_state=101)\n",
    "forest_iris.fit(X_train, Y_train)"
   ]
  },
  {
   "cell_type": "code",
   "execution_count": null,
   "id": "d372d9d9-f7ab-4476-bab5-77cc7c42c924",
   "metadata": {},
   "outputs": [],
   "source": [
    "# the algorithm correctly classify all training samples\n",
    "forest_iris.score(X_train, Y_train)"
   ]
  },
  {
   "cell_type": "code",
   "execution_count": null,
   "id": "5f9a4f0e-7700-45c9-a989-272f2b3e4305",
   "metadata": {},
   "outputs": [],
   "source": [
    "# the accuracy on test sample is lower\n",
    "forest_iris.score(X_test, Y_test)"
   ]
  },
  {
   "cell_type": "code",
   "execution_count": null,
   "id": "79163074-6049-4403-9131-81b0a5d86b97",
   "metadata": {},
   "outputs": [],
   "source": [
    "# check the actual prediction\n",
    "iris_predicted = tree_iris.predict(X_test)\n",
    "print(iris_predicted)"
   ]
  },
  {
   "cell_type": "code",
   "execution_count": null,
   "id": "bcbf3944-2992-409f-baea-da560bd8cd06",
   "metadata": {},
   "outputs": [],
   "source": [
    "# compare with ground truth\n",
    "iris_agreed = X_test[iris_predicted == Y_test, :]\n",
    "iris_disagreed = X_test[iris_predicted != Y_test, :]"
   ]
  },
  {
   "cell_type": "code",
   "execution_count": null,
   "id": "ba951e55-7f40-4827-b6d0-a3ca35423f7d",
   "metadata": {},
   "outputs": [],
   "source": [
    "# sepal length and sepal width\n",
    "\n",
    "fig = plt.figure()\n",
    "ax = fig.add_subplot()\n",
    "\n",
    "ax.scatter(X_train[:, 2], X_train[:, 3], marker=\"+\", c=\"silver\", label=\"training samples\")\n",
    "ax.scatter(iris_agreed[:, 2], iris_agreed[:, 3], marker=\".\", c=\"green\", label=\"test samples (correct)\")\n",
    "ax.scatter(iris_disagreed[:, 2], iris_disagreed[:, 3], marker=\"x\", c=\"red\", label=\"test samples (incorrect)\")\n",
    "\n",
    "ax.set_aspect(1)\n",
    "\n",
    "ax.set_xlabel(\"patel length (cm)\")\n",
    "ax.set_ylabel(\"patel width (cm)\")\n",
    "\n",
    "ax.legend()\n",
    "\n",
    "plt.show(fig)"
   ]
  },
  {
   "cell_type": "code",
   "execution_count": null,
   "id": "7c49fa47-7502-42a2-810a-d301a91dd8e2",
   "metadata": {},
   "outputs": [],
   "source": [
    "# check feature importance\n",
    "forest_iris.feature_importances_"
   ]
  },
  {
   "cell_type": "markdown",
   "id": "3c265fa8-11ed-4110-83d3-8ffbad2e438e",
   "metadata": {
    "jp-MarkdownHeadingCollapsed": true
   },
   "source": [
    "### Exercise 2: Classifying the wine dataset"
   ]
  },
  {
   "cell_type": "code",
   "execution_count": null,
   "id": "2f3d2994-27f4-4a9e-bc84-915b907e6bff",
   "metadata": {},
   "outputs": [],
   "source": [
    "# start code: loading the wine dataset\n",
    "\n",
    "wine_labeled = magic.wine_labeled.copy()\n",
    "wine_labeled"
   ]
  },
  {
   "cell_type": "code",
   "execution_count": null,
   "id": "dfe46f2f-cc0a-45c4-801f-47efa57e3e7a",
   "metadata": {},
   "outputs": [],
   "source": [
    "# part 1: data preprocessing"
   ]
  },
  {
   "cell_type": "code",
   "execution_count": null,
   "id": "e42cf347-bfe5-49ba-8cbb-b95048a4afe4",
   "metadata": {},
   "outputs": [],
   "source": [
    "# part 2: train a decision tree, and check model accuracy"
   ]
  },
  {
   "cell_type": "code",
   "execution_count": null,
   "id": "1f513327-87fa-407f-b85d-f01227db71db",
   "metadata": {},
   "outputs": [],
   "source": [
    "# part 3: visualize the decision tree"
   ]
  },
  {
   "cell_type": "code",
   "execution_count": null,
   "id": "a884943d-d293-45bc-ac3a-3a952855463d",
   "metadata": {},
   "outputs": [],
   "source": [
    "# part 4: train a random forest, and check accuracy"
   ]
  },
  {
   "cell_type": "code",
   "execution_count": null,
   "id": "fee221df-eaa6-40c4-9701-8e27b32dbd64",
   "metadata": {},
   "outputs": [],
   "source": [
    "# part 5: extract feature importance and plot"
   ]
  },
  {
   "cell_type": "markdown",
   "id": "8a929352-07ce-4431-8d1a-79ded2df6f8c",
   "metadata": {},
   "source": [
    "## Decision tree and random forest regression"
   ]
  },
  {
   "cell_type": "markdown",
   "id": "71b7891c-1437-49f0-91fa-f1481c537d35",
   "metadata": {
    "jp-MarkdownHeadingCollapsed": true
   },
   "source": [
    "### Decision tree versus random forest, without train-test split "
   ]
  },
  {
   "cell_type": "code",
   "execution_count": null,
   "id": "51154810-4c79-4fd1-b1ef-6203ee276ca3",
   "metadata": {},
   "outputs": [],
   "source": [
    "# load sample data\n",
    "\n",
    "x_values = magic.x_values.copy()\n",
    "y_values = magic.y_values.copy()"
   ]
  },
  {
   "cell_type": "code",
   "execution_count": null,
   "id": "daf16df9-6770-4cd2-9737-e30af2c9715b",
   "metadata": {},
   "outputs": [],
   "source": [
    "# plot sample data\n",
    "\n",
    "fig = plt.figure()\n",
    "ax = fig.add_subplot()\n",
    "\n",
    "ax.scatter(x_values[:, 0], y_values)\n",
    "\n",
    "plt.show(fig)"
   ]
  },
  {
   "cell_type": "code",
   "execution_count": null,
   "id": "b4f1ad69-2f59-4995-8c0a-962e0baf5c6a",
   "metadata": {},
   "outputs": [],
   "source": [
    "# perform decision tree regression\n",
    "\n",
    "tree_wave = skl.tree.DecisionTreeRegressor(random_state=101)\n",
    "tree_wave.fit(x_values, y_values)"
   ]
  },
  {
   "cell_type": "code",
   "execution_count": null,
   "id": "8b13e249-af4f-4ff5-9907-ab6ebf188328",
   "metadata": {},
   "outputs": [],
   "source": [
    "# visualize the resulting decision tree\n",
    "\n",
    "fig = plt.figure(figsize=(9, 12))\n",
    "ax = fig.add_subplot()\n",
    "\n",
    "skl.tree.plot_tree(tree_wave, ax=ax)\n",
    "\n",
    "plt.show()"
   ]
  },
  {
   "cell_type": "code",
   "execution_count": null,
   "id": "355ee98a-ecf0-4760-a420-6e7c8b2ce6cb",
   "metadata": {},
   "outputs": [],
   "source": [
    "# shift the x coordinates slightly and make prediction\n",
    "dx = (x_values[1, 0] - x_values[0, 0]) * 0.5\n",
    "x_new = x_values + dx\n",
    "y_new_tr = tree_wave.predict(x_new)"
   ]
  },
  {
   "cell_type": "code",
   "execution_count": null,
   "id": "9a32deca-1614-45ae-a872-7de331100fe4",
   "metadata": {},
   "outputs": [],
   "source": [
    "# visualize the resulting fit\n",
    "\n",
    "fig = plt.figure()\n",
    "ax = fig.add_subplot()\n",
    "\n",
    "ax.scatter(x_values[:, 0], y_values, label=\"training data\")\n",
    "ax.plot(x_new, y_new_tr, c=\"tab:green\", lw=3, label=\"decision tree\")\n",
    "\n",
    "ax.legend()\n",
    "\n",
    "plt.show(fig)"
   ]
  },
  {
   "cell_type": "code",
   "execution_count": null,
   "id": "0bc52768-7dc8-4530-b47c-8da387d8c075",
   "metadata": {},
   "outputs": [],
   "source": [
    "forest_wave = skl.ensemble.RandomForestRegressor(random_state=101)\n",
    "forest_wave.fit(x_values, y_values)"
   ]
  },
  {
   "cell_type": "code",
   "execution_count": null,
   "id": "d42597ec-2892-4a31-9514-2e4bb7f12d75",
   "metadata": {},
   "outputs": [],
   "source": [
    "# make prediction using the random forest\n",
    "y_new_rf = forest_wave.predict(x_new)"
   ]
  },
  {
   "cell_type": "code",
   "execution_count": null,
   "id": "986e91d5-9131-41e2-9294-38c9c52e8054",
   "metadata": {},
   "outputs": [],
   "source": [
    "# visualize the resulting fit\n",
    "\n",
    "fig = plt.figure()\n",
    "ax = fig.add_subplot()\n",
    "\n",
    "ax.scatter(x_values[:, 0], y_values, label=\"training data\")\n",
    "ax.plot(x_new, y_new_tr, c=\"tab:green\", lw=2, label=\"decision tree\")\n",
    "ax.plot(x_new, y_new_rf, c=\"tab:purple\", lw=3, label=\"random forest\")\n",
    "\n",
    "ax.legend()\n",
    "\n",
    "plt.show(fig)"
   ]
  },
  {
   "cell_type": "markdown",
   "id": "cdfacc4e-b287-4f08-8af0-d36548f3a75b",
   "metadata": {
    "jp-MarkdownHeadingCollapsed": true
   },
   "source": [
    "### Decision tree versus random forest, with train-test split "
   ]
  },
  {
   "cell_type": "code",
   "execution_count": null,
   "id": "d818cdd1-a8bf-464b-8ba5-ecab56a1a487",
   "metadata": {},
   "outputs": [],
   "source": [
    "# preprocessing\n",
    "\n",
    "# separate data into training and testing sets\n",
    "x_train, x_test, y_train, y_test = skl.model_selection.train_test_split(\n",
    "    magic.x_values.copy(), magic.y_values.copy(), \n",
    "    test_size=0.4, random_state=123\n",
    ")"
   ]
  },
  {
   "cell_type": "code",
   "execution_count": null,
   "id": "3d282b79-788f-41b2-bf84-f59566172ac6",
   "metadata": {},
   "outputs": [],
   "source": [
    "# coefficient of determination for decision tree model\n",
    "\n",
    "tree_wave = skl.tree.DecisionTreeRegressor(random_state=101)\n",
    "tree_wave.fit(x_train, y_train)\n",
    "\n",
    "tree_wave.score(x_test, y_test)"
   ]
  },
  {
   "cell_type": "code",
   "execution_count": null,
   "id": "11b90d14-b377-4d9b-bb4a-390e92ba5aa5",
   "metadata": {},
   "outputs": [],
   "source": [
    "# coefficient of determination for random forest model\n",
    "\n",
    "forest_wave = skl.ensemble.RandomForestRegressor(random_state=101)\n",
    "forest_wave.fit(x_values, y_values)\n",
    "\n",
    "forest_wave.score(x_test, y_test)"
   ]
  },
  {
   "cell_type": "markdown",
   "id": "17e5b78f-f235-4c96-9a56-3e8a88d1c119",
   "metadata": {
    "jp-MarkdownHeadingCollapsed": true
   },
   "source": [
    "### Effects of hyperparameter `max_depth` on decision tree regression"
   ]
  },
  {
   "cell_type": "markdown",
   "id": "b1602694-e624-48e5-a9df-4c7d86f6cd42",
   "metadata": {},
   "source": [
    "**Note**: for easy illustration we again omit test-train split"
   ]
  },
  {
   "cell_type": "code",
   "execution_count": null,
   "id": "17d9738f-581d-4ee5-92b3-668f481a1351",
   "metadata": {},
   "outputs": [],
   "source": [
    "# train a model with max_depth=2 (underfitting)\n",
    "\n",
    "tree_wave_2 = skl.tree.DecisionTreeRegressor(max_depth=2)\n",
    "tree_wave_2.fit(x_values, y_values)\n",
    "\n",
    "y_new_2 = tree_wave_2.predict(x_new)"
   ]
  },
  {
   "cell_type": "code",
   "execution_count": null,
   "id": "f911bbfa-5b2a-4418-95b4-a1953f1c6719",
   "metadata": {},
   "outputs": [],
   "source": [
    "fig = plt.figure()\n",
    "ax = fig.add_subplot()\n",
    "\n",
    "ax.scatter(x_values[:, 0], y_values)\n",
    "ax.plot(x_new, y_new_2, c=\"tab:green\", lw=3)\n",
    "\n",
    "plt.show(fig)"
   ]
  },
  {
   "cell_type": "code",
   "execution_count": null,
   "id": "fed1edd4-9f87-4109-831e-01325dc2a514",
   "metadata": {},
   "outputs": [],
   "source": [
    "# train a model with max_depth=5 (good fitting)\n",
    "\n",
    "tree_wave_5 = skl.tree.DecisionTreeRegressor(max_depth=5)\n",
    "tree_wave_5.fit(x_values, y_values)\n",
    "\n",
    "y_new_5 = tree_wave_5.predict(x_new)"
   ]
  },
  {
   "cell_type": "code",
   "execution_count": null,
   "id": "798d4c5f-548d-4b24-9727-b5af0df80548",
   "metadata": {},
   "outputs": [],
   "source": [
    "fig = plt.figure()\n",
    "ax = fig.add_subplot()\n",
    "\n",
    "ax.scatter(x_values[:, 0], y_values)\n",
    "ax.plot(x_new, y_new_5, c=\"tab:green\", lw=3)\n",
    "\n",
    "plt.show(fig)"
   ]
  },
  {
   "cell_type": "code",
   "execution_count": null,
   "id": "4e804bc5-98e2-43a1-9eee-34d796bb25ac",
   "metadata": {},
   "outputs": [],
   "source": [
    "# train a model with max_depth=10 (overfitting)\n",
    "\n",
    "tree_wave_10 = skl.tree.DecisionTreeRegressor(max_depth=10)\n",
    "tree_wave_10.fit(x_values, y_values)\n",
    "\n",
    "y_new_10 = tree_wave_10.predict(x_new)"
   ]
  },
  {
   "cell_type": "code",
   "execution_count": null,
   "id": "6c79e787-70b3-4cd6-b5c5-e75d2a2aced7",
   "metadata": {},
   "outputs": [],
   "source": [
    "fig = plt.figure()\n",
    "ax = fig.add_subplot()\n",
    "\n",
    "ax.scatter(x_values[:, 0], y_values)\n",
    "ax.plot(x_new, y_new_10, c=\"tab:green\", lw=3)\n",
    "\n",
    "plt.show(fig)"
   ]
  },
  {
   "cell_type": "markdown",
   "id": "9c1b1ba0-dec4-4931-bcda-0bdf7d0db78b",
   "metadata": {},
   "source": [
    "Now **include** test-train split and see the performance on training versus testing set"
   ]
  },
  {
   "cell_type": "code",
   "execution_count": null,
   "id": "2af1c0fb-5b0a-4751-9cdc-3a8e95e6e7ed",
   "metadata": {},
   "outputs": [],
   "source": [
    "# test-train split\n",
    "\n",
    "x_train, x_test, y_train, y_test = skl.model_selection.train_test_split(\n",
    "    x_values, y_values, test_size=0.4, random_state=123\n",
    ")"
   ]
  },
  {
   "cell_type": "code",
   "execution_count": null,
   "id": "5fcbe036-8530-4a08-8ae4-9d42b11ab65d",
   "metadata": {},
   "outputs": [],
   "source": [
    "# score with training set versus testing set\n",
    "# runs from max_depth = 1 to max_depth = 10\n",
    "\n",
    "training_scores = []\n",
    "validation_scores = []\n",
    "\n",
    "for i in range(1, 11):\n",
    "    tree_wave_i = skl.tree.DecisionTreeRegressor(max_depth=i, random_state=101)\n",
    "    tree_wave_i.fit(x_train, y_train)\n",
    "    training_scores.append(tree_wave_i.score(x_train, y_train))\n",
    "    validation_scores.append(tree_wave_i.score(x_test, y_test))"
   ]
  },
  {
   "cell_type": "code",
   "execution_count": null,
   "id": "8dc13a11-d70c-4dc7-b84b-24a79871b4ba",
   "metadata": {},
   "outputs": [],
   "source": [
    "fig = plt.figure()\n",
    "ax = fig.add_subplot()\n",
    "\n",
    "n_range = np.arange(1, 11)\n",
    "\n",
    "ax.plot(n_range, training_scores, ls=\"--\", label=\"training score\")\n",
    "ax.plot(n_range, validation_scores, label=\"validation score\")\n",
    "\n",
    "ax.set_xlabel(\"max_depth\")\n",
    "ax.set_ylabel(\"score\")\n",
    "\n",
    "ax.legend(loc=\"lower right\")\n",
    "\n",
    "plt.show(fig)"
   ]
  },
  {
   "cell_type": "markdown",
   "id": "14fecb41-9116-4a99-942c-02158f43eea6",
   "metadata": {
    "jp-MarkdownHeadingCollapsed": true
   },
   "source": [
    "### Hyperparameter tuning via k-fold cross-validation"
   ]
  },
  {
   "cell_type": "code",
   "execution_count": null,
   "id": "9980afd3-50e4-45d4-a3c3-812eea785110",
   "metadata": {},
   "outputs": [],
   "source": [
    "# train-test split\n",
    "\n",
    "x_train, x_test, y_train, y_test = skl.model_selection.train_test_split(\n",
    "    x_values, y_values, test_size=0.4, random_state=123\n",
    ")"
   ]
  },
  {
   "cell_type": "code",
   "execution_count": null,
   "id": "086f7b0c-6134-4c78-88bb-37d4acf30d30",
   "metadata": {},
   "outputs": [],
   "source": [
    "# compute k-fold cross-validation scores\n",
    "\n",
    "n_range = np.arange(1, 11)\n",
    "cv_scores = np.zeros((10, 10))\n",
    "\n",
    "for i in n_range:\n",
    "\n",
    "    tmp = skl.model_selection.cross_val_score(\n",
    "        skl.tree.DecisionTreeRegressor(max_depth=i), x_train, y_train, cv=10\n",
    "    )\n",
    "    cv_scores[i-1, :] = tmp"
   ]
  },
  {
   "cell_type": "code",
   "execution_count": null,
   "id": "69a249d0-c918-4fec-b149-f719829f1ccf",
   "metadata": {},
   "outputs": [],
   "source": [
    "# print out the mean for each value of max_depth\n",
    "\n",
    "cv_scores.mean(axis=1)"
   ]
  },
  {
   "cell_type": "code",
   "execution_count": null,
   "id": "bee9f592-5f45-4e4b-86bc-4e2ef63a9606",
   "metadata": {},
   "outputs": [],
   "source": [
    "# plot the mean for each value of max_depth\n",
    "\n",
    "fig = plt.figure()\n",
    "ax = fig.add_subplot()\n",
    "\n",
    "ax.plot(n_range, cv_scores.mean(axis=1))\n",
    "\n",
    "ax.set_xlabel(\"max_depth\")\n",
    "ax.set_ylabel(\"cross-validation score\")\n",
    "\n",
    "plt.show(fig)"
   ]
  },
  {
   "cell_type": "markdown",
   "id": "cfdf3a53-e536-4957-b004-f6c98d726ff1",
   "metadata": {
    "jp-MarkdownHeadingCollapsed": true
   },
   "source": [
    "### Exercise 3: predicting outcome in diabetes dataset"
   ]
  },
  {
   "cell_type": "code",
   "execution_count": null,
   "id": "5aaf9a8f-6dec-4b5c-adbe-dfc967917258",
   "metadata": {},
   "outputs": [],
   "source": [
    "# starter code: load the diabetes dataset\n",
    "diabetes = magic.diabetes.copy()\n",
    "diabetes"
   ]
  },
  {
   "cell_type": "code",
   "execution_count": null,
   "id": "e26661eb-282b-474a-ab8f-6cea2034d6d8",
   "metadata": {},
   "outputs": [],
   "source": [
    "# part 1: preprocessing data"
   ]
  },
  {
   "cell_type": "code",
   "execution_count": null,
   "id": "e3f41897-0349-48c0-8fc3-618ceb79c5bc",
   "metadata": {},
   "outputs": [],
   "source": [
    "# part 2: k-fold cross validation"
   ]
  },
  {
   "cell_type": "code",
   "execution_count": null,
   "id": "aa847883-f20f-4498-919f-284b28d154a4",
   "metadata": {},
   "outputs": [],
   "source": [
    "# part 3: construct the final model and evaluate its performance"
   ]
  },
  {
   "cell_type": "code",
   "execution_count": null,
   "id": "63a148f4-f289-4c7c-90aa-a2a6b103e154",
   "metadata": {},
   "outputs": [],
   "source": [
    "# part 4: determine the most useful features"
   ]
  }
 ],
 "metadata": {
  "kernelspec": {
   "display_name": "Python: geopy",
   "language": "python",
   "name": "geopy"
  },
  "language_info": {
   "codemirror_mode": {
    "name": "ipython",
    "version": 3
   },
   "file_extension": ".py",
   "mimetype": "text/x-python",
   "name": "python",
   "nbconvert_exporter": "python",
   "pygments_lexer": "ipython3",
   "version": "3.12.8"
  }
 },
 "nbformat": 4,
 "nbformat_minor": 5
}
